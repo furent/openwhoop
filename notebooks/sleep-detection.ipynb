{
 "cells": [
  {
   "cell_type": "code",
   "execution_count": null,
   "metadata": {},
   "outputs": [],
   "source": [
    "import pandas as pd\n",
    "import struct\n",
    "import datetime\n",
    "from plotly.subplots import make_subplots\n",
    "import numpy as np\n",
    "import plotly.graph_objects as go\n",
    "from dotenv import load_dotenv\n",
    "import os"
   ]
  },
  {
   "cell_type": "code",
   "execution_count": null,
   "metadata": {},
   "outputs": [],
   "source": [
    "QUERY = \"\"\"\n",
    "select \n",
    "    lower(hex(bytes)) as packets_hex,\n",
    "    bytes as packet\n",
    "from packets \n",
    "where (lower(hex(bytes)) like \"aa6400a1%\" or lower(hex(bytes)) like \"aa5c00f0%\")and lower(hex(uuid)) = \"610800058d6d82b8614a1c8cb0f8dcc6\"\n",
    "\"\"\""
   ]
  },
  {
   "cell_type": "code",
   "execution_count": null,
   "metadata": {},
   "outputs": [],
   "source": [
    "DATABASE_URL = os.getenv(\"DATABASE_URL\").replace(\"sqlite://\", \"sqlite:///../\")\n",
    "df = pd.read_sql(QUERY, DATABASE_URL)"
   ]
  },
  {
   "cell_type": "code",
   "execution_count": null,
   "metadata": {},
   "outputs": [],
   "source": [
    "df[\"datetime\"] = pd.to_datetime(df[\"packet\"].apply(lambda data: struct.unpack('<I', data[11:15])[0]), unit=\"s\")\n",
    "df = df.sort_values(\"datetime\", ascending=True)\n",
    "\n",
    "df['date'] = df['datetime'].dt.date\n",
    "df['time'] = df['datetime'].dt.time\n",
    "df[\"bpm\"] = df[\"packet\"].apply(lambda data: data[21])"
   ]
  },
  {
   "cell_type": "code",
   "execution_count": null,
   "metadata": {},
   "outputs": [],
   "source": [
    "df[\"sleep_stage\"] = df[\"packet\"].apply(lambda data: struct.unpack('<I', data[31:35])[0])"
   ]
  },
  {
   "cell_type": "code",
   "execution_count": null,
   "metadata": {},
   "outputs": [],
   "source": [
    "def plot_heart_rate(days):\n",
    "    for day_data in days:\n",
    "        # Create a figure with secondary y-axes\n",
    "        fig = make_subplots(specs=[[{\"secondary_y\": True}]])\n",
    "\n",
    "        # Add heart rate trace to primary y-axis\n",
    "        fig.add_trace(\n",
    "            go.Scatter(x=day_data['datetime'], y=day_data['bpm'], mode='lines', name='Heart Rate (BPM)', line=dict(color='blue')),\n",
    "            secondary_y=False,\n",
    "        )\n",
    "\n",
    "        # Add x trace to secondary y-axis\n",
    "        fig.add_trace(\n",
    "            go.Scatter(x=day_data['datetime'], y=day_data['sleep_stage'], mode='lines', name='X', line=dict(color='orange')),\n",
    "            secondary_y=True,\n",
    "        )\n",
    "\n",
    "        # Update layout for titles and axes\n",
    "        fig.update_layout(\n",
    "            title=f\"Heart Rate and XYZ from {day_data['datetime'].iloc[0].date()} Noon to Next Day Noon\",\n",
    "            xaxis_title=\"Time\",\n",
    "            legend=dict(orientation=\"h\", yanchor=\"bottom\", y=1.02, xanchor=\"right\", x=1),\n",
    "        )\n",
    "\n",
    "        # Update x-axis for time formatting\n",
    "        fig.update_xaxes(tickformat='%H:%M')\n",
    "\n",
    "        # Update y-axes titles\n",
    "        fig.update_yaxes(title_text=\"Heart Rate (BPM)\", secondary_y=False)\n",
    "        fig.update_yaxes(title_text=\"XYZ Values\", secondary_y=True)\n",
    "\n",
    "        # Show the plot\n",
    "        fig.show()"
   ]
  },
  {
   "cell_type": "code",
   "execution_count": null,
   "metadata": {},
   "outputs": [],
   "source": [
    "def filter_noon_to_noon(df):\n",
    "    # Group the data by date\n",
    "    days = []\n",
    "    unique_dates = df['date'].unique()\n",
    "    \n",
    "    for date in unique_dates:\n",
    "        # Define noon of the current day and noon of the next day\n",
    "        start_noon = pd.Timestamp(datetime.datetime.combine(date, datetime.time(12, 0)))\n",
    "        end_noon = start_noon + pd.Timedelta(days=1)\n",
    "        \n",
    "        # Filter data between the start and end noon\n",
    "        day_data = df[(df['datetime'] >= start_noon) & (df['datetime'] < end_noon)].copy()\n",
    "        if not day_data.empty:\n",
    "            days.append(day_data)\n",
    "\n",
    "\n",
    "    return days"
   ]
  },
  {
   "cell_type": "code",
   "execution_count": null,
   "metadata": {},
   "outputs": [],
   "source": [
    "days = filter_noon_to_noon(df)\n",
    "plot_heart_rate(days)"
   ]
  }
 ],
 "metadata": {
  "kernelspec": {
   "display_name": "Python 3",
   "language": "python",
   "name": "python3"
  },
  "language_info": {
   "codemirror_mode": {
    "name": "ipython",
    "version": 3
   },
   "file_extension": ".py",
   "mimetype": "text/x-python",
   "name": "python",
   "nbconvert_exporter": "python",
   "pygments_lexer": "ipython3",
   "version": "3.10.12"
  }
 },
 "nbformat": 4,
 "nbformat_minor": 2
}
